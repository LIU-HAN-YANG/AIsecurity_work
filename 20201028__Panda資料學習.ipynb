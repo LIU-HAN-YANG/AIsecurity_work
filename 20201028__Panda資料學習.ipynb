{
  "nbformat": 4,
  "nbformat_minor": 0,
  "metadata": {
    "colab": {
      "name": "20201028_ Panda資料學習.ipynb",
      "provenance": [],
      "authorship_tag": "ABX9TyM03+oAAZ4aQUZ8h4HV4Ecs",
      "include_colab_link": true
    },
    "kernelspec": {
      "name": "python3",
      "display_name": "Python 3"
    }
  },
  "cells": [
    {
      "cell_type": "markdown",
      "metadata": {
        "id": "view-in-github",
        "colab_type": "text"
      },
      "source": [
        "<a href=\"https://colab.research.google.com/github/LIU-HAN-YANG/AIsecurity_work/blob/master/20201028__Panda%E8%B3%87%E6%96%99%E5%AD%B8%E7%BF%92.ipynb\" target=\"_parent\"><img src=\"https://colab.research.google.com/assets/colab-badge.svg\" alt=\"Open In Colab\"/></a>"
      ]
    },
    {
      "cell_type": "markdown",
      "metadata": {
        "id": "dJgAV0X_0sKC"
      },
      "source": [
        "Panda資料學習\n",
        "資料來源：拿公投統計資料學 pandas\n",
        "https://newtoypia.blogspot.com/2018/12/pandas.html"
      ]
    },
    {
      "cell_type": "markdown",
      "metadata": {
        "id": "lyIHS0BV1D43"
      },
      "source": [
        "#資料預處理 Data preprocessing"
      ]
    },
    {
      "cell_type": "markdown",
      "metadata": {
        "id": "Cm_8l4O71VyW"
      },
      "source": [
        "#下載已處理資料"
      ]
    },
    {
      "cell_type": "code",
      "metadata": {
        "id": "-LQoFhDiyqON",
        "outputId": "0e70166b-bc55-4eef-d15e-dbe91bac9986",
        "colab": {
          "base_uri": "https://localhost:8080/",
          "height": 204
        }
      },
      "source": [
        "!wget https://raw.githubusercontent.com/MyDearGreatTeacher/AI_and_security_2020/master/referendum2.csv"
      ],
      "execution_count": null,
      "outputs": [
        {
          "output_type": "stream",
          "text": [
            "--2020-10-28 01:24:48--  https://raw.githubusercontent.com/MyDearGreatTeacher/AI_and_security_2020/master/referendum2.csv\n",
            "Resolving raw.githubusercontent.com (raw.githubusercontent.com)... 151.101.0.133, 151.101.64.133, 151.101.128.133, ...\n",
            "Connecting to raw.githubusercontent.com (raw.githubusercontent.com)|151.101.0.133|:443... connected.\n",
            "HTTP request sent, awaiting response... 200 OK\n",
            "Length: 219621 (214K) [text/plain]\n",
            "Saving to: ‘referendum2.csv’\n",
            "\n",
            "referendum2.csv     100%[===================>] 214.47K  --.-KB/s    in 0.05s   \n",
            "\n",
            "2020-10-28 01:24:48 (4.04 MB/s) - ‘referendum2.csv’ saved [219621/219621]\n",
            "\n"
          ],
          "name": "stdout"
        }
      ]
    },
    {
      "cell_type": "code",
      "metadata": {
        "id": "gt13yycB1Lhn"
      },
      "source": [
        "cat referendum2.csv"
      ],
      "execution_count": null,
      "outputs": []
    },
    {
      "cell_type": "markdown",
      "metadata": {
        "id": "6C_xC5HY3BgK"
      },
      "source": [
        "#使用Panda read_csv()載入CSV資料"
      ]
    },
    {
      "cell_type": "code",
      "metadata": {
        "id": "erCVk5N71imU",
        "outputId": "7fca39c7-218c-4a0f-d71d-0888dd3628a5",
        "colab": {
          "base_uri": "https://localhost:8080/",
          "height": 419
        }
      },
      "source": [
        "import pandas as pd\n",
        "refm = pd.read_csv('referendum2.csv')\n",
        "refm"
      ],
      "execution_count": null,
      "outputs": [
        {
          "output_type": "execute_result",
          "data": {
            "text/html": [
              "<div>\n",
              "<style scoped>\n",
              "    .dataframe tbody tr th:only-of-type {\n",
              "        vertical-align: middle;\n",
              "    }\n",
              "\n",
              "    .dataframe tbody tr th {\n",
              "        vertical-align: top;\n",
              "    }\n",
              "\n",
              "    .dataframe thead th {\n",
              "        text-align: right;\n",
              "    }\n",
              "</style>\n",
              "<table border=\"1\" class=\"dataframe\">\n",
              "  <thead>\n",
              "    <tr style=\"text-align: right;\">\n",
              "      <th></th>\n",
              "      <th>案件</th>\n",
              "      <th>縣市</th>\n",
              "      <th>鄉鎮市區</th>\n",
              "      <th>同意票數</th>\n",
              "      <th>不同意票數</th>\n",
              "      <th>有效票數</th>\n",
              "      <th>無效票數</th>\n",
              "      <th>投票數</th>\n",
              "      <th>投票權人數</th>\n",
              "    </tr>\n",
              "  </thead>\n",
              "  <tbody>\n",
              "    <tr>\n",
              "      <th>0</th>\n",
              "      <td>c07</td>\n",
              "      <td>全國</td>\n",
              "      <td>NaN</td>\n",
              "      <td>7955753</td>\n",
              "      <td>2109157</td>\n",
              "      <td>10064910</td>\n",
              "      <td>715140</td>\n",
              "      <td>10780050</td>\n",
              "      <td>19757067</td>\n",
              "    </tr>\n",
              "    <tr>\n",
              "      <th>1</th>\n",
              "      <td>c07</td>\n",
              "      <td>南投縣</td>\n",
              "      <td>NaN</td>\n",
              "      <td>187162</td>\n",
              "      <td>41641</td>\n",
              "      <td>228803</td>\n",
              "      <td>15881</td>\n",
              "      <td>244684</td>\n",
              "      <td>427089</td>\n",
              "    </tr>\n",
              "    <tr>\n",
              "      <th>2</th>\n",
              "      <td>c07</td>\n",
              "      <td>南投縣</td>\n",
              "      <td>中寮鄉</td>\n",
              "      <td>5701</td>\n",
              "      <td>1272</td>\n",
              "      <td>6973</td>\n",
              "      <td>633</td>\n",
              "      <td>7606</td>\n",
              "      <td>13181</td>\n",
              "    </tr>\n",
              "    <tr>\n",
              "      <th>3</th>\n",
              "      <td>c07</td>\n",
              "      <td>南投縣</td>\n",
              "      <td>仁愛鄉</td>\n",
              "      <td>5087</td>\n",
              "      <td>1090</td>\n",
              "      <td>6177</td>\n",
              "      <td>467</td>\n",
              "      <td>6644</td>\n",
              "      <td>12589</td>\n",
              "    </tr>\n",
              "    <tr>\n",
              "      <th>4</th>\n",
              "      <td>c07</td>\n",
              "      <td>南投縣</td>\n",
              "      <td>信義鄉</td>\n",
              "      <td>5246</td>\n",
              "      <td>1259</td>\n",
              "      <td>6505</td>\n",
              "      <td>961</td>\n",
              "      <td>7466</td>\n",
              "      <td>13299</td>\n",
              "    </tr>\n",
              "    <tr>\n",
              "      <th>...</th>\n",
              "      <td>...</td>\n",
              "      <td>...</td>\n",
              "      <td>...</td>\n",
              "      <td>...</td>\n",
              "      <td>...</td>\n",
              "      <td>...</td>\n",
              "      <td>...</td>\n",
              "      <td>...</td>\n",
              "      <td>...</td>\n",
              "    </tr>\n",
              "    <tr>\n",
              "      <th>3905</th>\n",
              "      <td>c16</td>\n",
              "      <td>高雄市</td>\n",
              "      <td>阿蓮區</td>\n",
              "      <td>6890</td>\n",
              "      <td>5125</td>\n",
              "      <td>12015</td>\n",
              "      <td>1066</td>\n",
              "      <td>13081</td>\n",
              "      <td>24534</td>\n",
              "    </tr>\n",
              "    <tr>\n",
              "      <th>3906</th>\n",
              "      <td>c16</td>\n",
              "      <td>高雄市</td>\n",
              "      <td>鳥松區</td>\n",
              "      <td>12625</td>\n",
              "      <td>9306</td>\n",
              "      <td>21931</td>\n",
              "      <td>1688</td>\n",
              "      <td>23619</td>\n",
              "      <td>39191</td>\n",
              "    </tr>\n",
              "    <tr>\n",
              "      <th>3907</th>\n",
              "      <td>c16</td>\n",
              "      <td>高雄市</td>\n",
              "      <td>鳳山區</td>\n",
              "      <td>99747</td>\n",
              "      <td>64662</td>\n",
              "      <td>164409</td>\n",
              "      <td>12511</td>\n",
              "      <td>176920</td>\n",
              "      <td>300510</td>\n",
              "    </tr>\n",
              "    <tr>\n",
              "      <th>3908</th>\n",
              "      <td>c16</td>\n",
              "      <td>高雄市</td>\n",
              "      <td>鹽埕區</td>\n",
              "      <td>6495</td>\n",
              "      <td>4957</td>\n",
              "      <td>11452</td>\n",
              "      <td>718</td>\n",
              "      <td>12170</td>\n",
              "      <td>21617</td>\n",
              "    </tr>\n",
              "    <tr>\n",
              "      <th>3909</th>\n",
              "      <td>c16</td>\n",
              "      <td>高雄市</td>\n",
              "      <td>鼓山區</td>\n",
              "      <td>38075</td>\n",
              "      <td>24959</td>\n",
              "      <td>63034</td>\n",
              "      <td>4429</td>\n",
              "      <td>67463</td>\n",
              "      <td>114979</td>\n",
              "    </tr>\n",
              "  </tbody>\n",
              "</table>\n",
              "<p>3910 rows × 9 columns</p>\n",
              "</div>"
            ],
            "text/plain": [
              "       案件   縣市 鄉鎮市區     同意票數    不同意票數      有效票數    無效票數       投票數     投票權人數\n",
              "0     c07   全國  NaN  7955753  2109157  10064910  715140  10780050  19757067\n",
              "1     c07  南投縣  NaN   187162    41641    228803   15881    244684    427089\n",
              "2     c07  南投縣  中寮鄉     5701     1272      6973     633      7606     13181\n",
              "3     c07  南投縣  仁愛鄉     5087     1090      6177     467      6644     12589\n",
              "4     c07  南投縣  信義鄉     5246     1259      6505     961      7466     13299\n",
              "...   ...  ...  ...      ...      ...       ...     ...       ...       ...\n",
              "3905  c16  高雄市  阿蓮區     6890     5125     12015    1066     13081     24534\n",
              "3906  c16  高雄市  鳥松區    12625     9306     21931    1688     23619     39191\n",
              "3907  c16  高雄市  鳳山區    99747    64662    164409   12511    176920    300510\n",
              "3908  c16  高雄市  鹽埕區     6495     4957     11452     718     12170     21617\n",
              "3909  c16  高雄市  鼓山區    38075    24959     63034    4429     67463    114979\n",
              "\n",
              "[3910 rows x 9 columns]"
            ]
          },
          "metadata": {
            "tags": []
          },
          "execution_count": 31
        }
      ]
    },
    {
      "cell_type": "markdown",
      "metadata": {
        "id": "_DiIqs_s3PAq"
      },
      "source": [
        "#驗證投票資料正確性\n",
        "'''\n",
        "驗算 「同意票數+不同意票數==有效票數」\n",
        "驗算 「有效票數+無效票數==投票數」\n",
        "'''"
      ]
    },
    {
      "cell_type": "code",
      "metadata": {
        "id": "bCpGvVcb25-e",
        "outputId": "b22be916-573f-439b-d738-63816ab92da1",
        "colab": {
          "base_uri": "https://localhost:8080/",
          "height": 170
        }
      },
      "source": [
        "x=refm['同意票數']+refm['不同意票數']-refm['有效票數']\n",
        "x.describe()\n",
        "y=refm['有效票數']+refm['無效票數']-refm['投票數']\n",
        "y.describe()"
      ],
      "execution_count": null,
      "outputs": [
        {
          "output_type": "execute_result",
          "data": {
            "text/plain": [
              "count    3910.0\n",
              "mean        0.0\n",
              "std         0.0\n",
              "min         0.0\n",
              "25%         0.0\n",
              "50%         0.0\n",
              "75%         0.0\n",
              "max         0.0\n",
              "dtype: float64"
            ]
          },
          "metadata": {
            "tags": []
          },
          "execution_count": 32
        }
      ]
    },
    {
      "cell_type": "markdown",
      "metadata": {
        "id": "96HfufbX4PS4"
      },
      "source": [
        "#刪除列、 刪除欄\n",
        "'''\n",
        "簡化資料將全國及縣市加總資料刪掉\n",
        "'''"
      ]
    },
    {
      "cell_type": "code",
      "metadata": {
        "id": "fT28vZBH32LD",
        "outputId": "485db63b-ca8e-4a94-9fac-dbb4caa04e77",
        "colab": {
          "base_uri": "https://localhost:8080/",
          "height": 419
        }
      },
      "source": [
        "refm2 = refm[~ refm['鄉鎮市區'].isnull()]\n",
        "refm3 = refm.dropna(subset=['鄉鎮市區'])\n",
        "refm2"
      ],
      "execution_count": null,
      "outputs": [
        {
          "output_type": "execute_result",
          "data": {
            "text/html": [
              "<div>\n",
              "<style scoped>\n",
              "    .dataframe tbody tr th:only-of-type {\n",
              "        vertical-align: middle;\n",
              "    }\n",
              "\n",
              "    .dataframe tbody tr th {\n",
              "        vertical-align: top;\n",
              "    }\n",
              "\n",
              "    .dataframe thead th {\n",
              "        text-align: right;\n",
              "    }\n",
              "</style>\n",
              "<table border=\"1\" class=\"dataframe\">\n",
              "  <thead>\n",
              "    <tr style=\"text-align: right;\">\n",
              "      <th></th>\n",
              "      <th>案件</th>\n",
              "      <th>縣市</th>\n",
              "      <th>鄉鎮市區</th>\n",
              "      <th>同意票數</th>\n",
              "      <th>不同意票數</th>\n",
              "      <th>有效票數</th>\n",
              "      <th>無效票數</th>\n",
              "      <th>投票數</th>\n",
              "      <th>投票權人數</th>\n",
              "    </tr>\n",
              "  </thead>\n",
              "  <tbody>\n",
              "    <tr>\n",
              "      <th>2</th>\n",
              "      <td>c07</td>\n",
              "      <td>南投縣</td>\n",
              "      <td>中寮鄉</td>\n",
              "      <td>5701</td>\n",
              "      <td>1272</td>\n",
              "      <td>6973</td>\n",
              "      <td>633</td>\n",
              "      <td>7606</td>\n",
              "      <td>13181</td>\n",
              "    </tr>\n",
              "    <tr>\n",
              "      <th>3</th>\n",
              "      <td>c07</td>\n",
              "      <td>南投縣</td>\n",
              "      <td>仁愛鄉</td>\n",
              "      <td>5087</td>\n",
              "      <td>1090</td>\n",
              "      <td>6177</td>\n",
              "      <td>467</td>\n",
              "      <td>6644</td>\n",
              "      <td>12589</td>\n",
              "    </tr>\n",
              "    <tr>\n",
              "      <th>4</th>\n",
              "      <td>c07</td>\n",
              "      <td>南投縣</td>\n",
              "      <td>信義鄉</td>\n",
              "      <td>5246</td>\n",
              "      <td>1259</td>\n",
              "      <td>6505</td>\n",
              "      <td>961</td>\n",
              "      <td>7466</td>\n",
              "      <td>13299</td>\n",
              "    </tr>\n",
              "    <tr>\n",
              "      <th>5</th>\n",
              "      <td>c07</td>\n",
              "      <td>南投縣</td>\n",
              "      <td>南投市</td>\n",
              "      <td>39753</td>\n",
              "      <td>8588</td>\n",
              "      <td>48341</td>\n",
              "      <td>2677</td>\n",
              "      <td>51018</td>\n",
              "      <td>84328</td>\n",
              "    </tr>\n",
              "    <tr>\n",
              "      <th>6</th>\n",
              "      <td>c07</td>\n",
              "      <td>南投縣</td>\n",
              "      <td>名間鄉</td>\n",
              "      <td>14946</td>\n",
              "      <td>3387</td>\n",
              "      <td>18333</td>\n",
              "      <td>1622</td>\n",
              "      <td>19955</td>\n",
              "      <td>33408</td>\n",
              "    </tr>\n",
              "    <tr>\n",
              "      <th>...</th>\n",
              "      <td>...</td>\n",
              "      <td>...</td>\n",
              "      <td>...</td>\n",
              "      <td>...</td>\n",
              "      <td>...</td>\n",
              "      <td>...</td>\n",
              "      <td>...</td>\n",
              "      <td>...</td>\n",
              "      <td>...</td>\n",
              "    </tr>\n",
              "    <tr>\n",
              "      <th>3905</th>\n",
              "      <td>c16</td>\n",
              "      <td>高雄市</td>\n",
              "      <td>阿蓮區</td>\n",
              "      <td>6890</td>\n",
              "      <td>5125</td>\n",
              "      <td>12015</td>\n",
              "      <td>1066</td>\n",
              "      <td>13081</td>\n",
              "      <td>24534</td>\n",
              "    </tr>\n",
              "    <tr>\n",
              "      <th>3906</th>\n",
              "      <td>c16</td>\n",
              "      <td>高雄市</td>\n",
              "      <td>鳥松區</td>\n",
              "      <td>12625</td>\n",
              "      <td>9306</td>\n",
              "      <td>21931</td>\n",
              "      <td>1688</td>\n",
              "      <td>23619</td>\n",
              "      <td>39191</td>\n",
              "    </tr>\n",
              "    <tr>\n",
              "      <th>3907</th>\n",
              "      <td>c16</td>\n",
              "      <td>高雄市</td>\n",
              "      <td>鳳山區</td>\n",
              "      <td>99747</td>\n",
              "      <td>64662</td>\n",
              "      <td>164409</td>\n",
              "      <td>12511</td>\n",
              "      <td>176920</td>\n",
              "      <td>300510</td>\n",
              "    </tr>\n",
              "    <tr>\n",
              "      <th>3908</th>\n",
              "      <td>c16</td>\n",
              "      <td>高雄市</td>\n",
              "      <td>鹽埕區</td>\n",
              "      <td>6495</td>\n",
              "      <td>4957</td>\n",
              "      <td>11452</td>\n",
              "      <td>718</td>\n",
              "      <td>12170</td>\n",
              "      <td>21617</td>\n",
              "    </tr>\n",
              "    <tr>\n",
              "      <th>3909</th>\n",
              "      <td>c16</td>\n",
              "      <td>高雄市</td>\n",
              "      <td>鼓山區</td>\n",
              "      <td>38075</td>\n",
              "      <td>24959</td>\n",
              "      <td>63034</td>\n",
              "      <td>4429</td>\n",
              "      <td>67463</td>\n",
              "      <td>114979</td>\n",
              "    </tr>\n",
              "  </tbody>\n",
              "</table>\n",
              "<p>3680 rows × 9 columns</p>\n",
              "</div>"
            ],
            "text/plain": [
              "       案件   縣市 鄉鎮市區   同意票數  不同意票數    有效票數   無效票數     投票數   投票權人數\n",
              "2     c07  南投縣  中寮鄉   5701   1272    6973    633    7606   13181\n",
              "3     c07  南投縣  仁愛鄉   5087   1090    6177    467    6644   12589\n",
              "4     c07  南投縣  信義鄉   5246   1259    6505    961    7466   13299\n",
              "5     c07  南投縣  南投市  39753   8588   48341   2677   51018   84328\n",
              "6     c07  南投縣  名間鄉  14946   3387   18333   1622   19955   33408\n",
              "...   ...  ...  ...    ...    ...     ...    ...     ...     ...\n",
              "3905  c16  高雄市  阿蓮區   6890   5125   12015   1066   13081   24534\n",
              "3906  c16  高雄市  鳥松區  12625   9306   21931   1688   23619   39191\n",
              "3907  c16  高雄市  鳳山區  99747  64662  164409  12511  176920  300510\n",
              "3908  c16  高雄市  鹽埕區   6495   4957   11452    718   12170   21617\n",
              "3909  c16  高雄市  鼓山區  38075  24959   63034   4429   67463  114979\n",
              "\n",
              "[3680 rows x 9 columns]"
            ]
          },
          "metadata": {
            "tags": []
          },
          "execution_count": 33
        }
      ]
    },
    {
      "cell_type": "markdown",
      "metadata": {
        "id": "ruVnBr9d4_ka"
      },
      "source": [
        "#計算 「贊成比例」\n",
        "'''\n",
        "「鄉鎮市區」 冠上縣市名稱\n",
        "留下 「案件」、 「鄉鎮市區」、 「贊成比例」\n",
        "'''"
      ]
    },
    {
      "cell_type": "code",
      "metadata": {
        "id": "tKrMxTH85HfE",
        "outputId": "4859a243-e019-4e01-8f32-ea0784091cf2",
        "colab": {
          "base_uri": "https://localhost:8080/",
          "height": 623
        }
      },
      "source": [
        "refm = refm2\n",
        "refm['贊成比例'] = (refm['同意票數'] / refm['投票數'])\n",
        "refm['鄉鎮市區'] = refm['縣市'] + refm['鄉鎮市區']\n",
        "refm2 = refm.drop(columns=['縣市', '同意票數', '不同意票數', '有效票數', '無效票數', '投票數', '投票權人數'])\n",
        "refm3 = refm[['案件', '鄉鎮市區', '贊成比例']]\n",
        "# 上面兩句效果相同。\n",
        "refm2"
      ],
      "execution_count": null,
      "outputs": [
        {
          "output_type": "stream",
          "text": [
            "/usr/local/lib/python3.6/dist-packages/ipykernel_launcher.py:2: SettingWithCopyWarning: \n",
            "A value is trying to be set on a copy of a slice from a DataFrame.\n",
            "Try using .loc[row_indexer,col_indexer] = value instead\n",
            "\n",
            "See the caveats in the documentation: https://pandas.pydata.org/pandas-docs/stable/user_guide/indexing.html#returning-a-view-versus-a-copy\n",
            "  \n",
            "/usr/local/lib/python3.6/dist-packages/ipykernel_launcher.py:3: SettingWithCopyWarning: \n",
            "A value is trying to be set on a copy of a slice from a DataFrame.\n",
            "Try using .loc[row_indexer,col_indexer] = value instead\n",
            "\n",
            "See the caveats in the documentation: https://pandas.pydata.org/pandas-docs/stable/user_guide/indexing.html#returning-a-view-versus-a-copy\n",
            "  This is separate from the ipykernel package so we can avoid doing imports until\n"
          ],
          "name": "stderr"
        },
        {
          "output_type": "execute_result",
          "data": {
            "text/html": [
              "<div>\n",
              "<style scoped>\n",
              "    .dataframe tbody tr th:only-of-type {\n",
              "        vertical-align: middle;\n",
              "    }\n",
              "\n",
              "    .dataframe tbody tr th {\n",
              "        vertical-align: top;\n",
              "    }\n",
              "\n",
              "    .dataframe thead th {\n",
              "        text-align: right;\n",
              "    }\n",
              "</style>\n",
              "<table border=\"1\" class=\"dataframe\">\n",
              "  <thead>\n",
              "    <tr style=\"text-align: right;\">\n",
              "      <th></th>\n",
              "      <th>案件</th>\n",
              "      <th>鄉鎮市區</th>\n",
              "      <th>贊成比例</th>\n",
              "    </tr>\n",
              "  </thead>\n",
              "  <tbody>\n",
              "    <tr>\n",
              "      <th>2</th>\n",
              "      <td>c07</td>\n",
              "      <td>南投縣中寮鄉</td>\n",
              "      <td>0.749540</td>\n",
              "    </tr>\n",
              "    <tr>\n",
              "      <th>3</th>\n",
              "      <td>c07</td>\n",
              "      <td>南投縣仁愛鄉</td>\n",
              "      <td>0.765653</td>\n",
              "    </tr>\n",
              "    <tr>\n",
              "      <th>4</th>\n",
              "      <td>c07</td>\n",
              "      <td>南投縣信義鄉</td>\n",
              "      <td>0.702652</td>\n",
              "    </tr>\n",
              "    <tr>\n",
              "      <th>5</th>\n",
              "      <td>c07</td>\n",
              "      <td>南投縣南投市</td>\n",
              "      <td>0.779196</td>\n",
              "    </tr>\n",
              "    <tr>\n",
              "      <th>6</th>\n",
              "      <td>c07</td>\n",
              "      <td>南投縣名間鄉</td>\n",
              "      <td>0.748985</td>\n",
              "    </tr>\n",
              "    <tr>\n",
              "      <th>...</th>\n",
              "      <td>...</td>\n",
              "      <td>...</td>\n",
              "      <td>...</td>\n",
              "    </tr>\n",
              "    <tr>\n",
              "      <th>3905</th>\n",
              "      <td>c16</td>\n",
              "      <td>高雄市阿蓮區</td>\n",
              "      <td>0.526718</td>\n",
              "    </tr>\n",
              "    <tr>\n",
              "      <th>3906</th>\n",
              "      <td>c16</td>\n",
              "      <td>高雄市鳥松區</td>\n",
              "      <td>0.534527</td>\n",
              "    </tr>\n",
              "    <tr>\n",
              "      <th>3907</th>\n",
              "      <td>c16</td>\n",
              "      <td>高雄市鳳山區</td>\n",
              "      <td>0.563797</td>\n",
              "    </tr>\n",
              "    <tr>\n",
              "      <th>3908</th>\n",
              "      <td>c16</td>\n",
              "      <td>高雄市鹽埕區</td>\n",
              "      <td>0.533689</td>\n",
              "    </tr>\n",
              "    <tr>\n",
              "      <th>3909</th>\n",
              "      <td>c16</td>\n",
              "      <td>高雄市鼓山區</td>\n",
              "      <td>0.564383</td>\n",
              "    </tr>\n",
              "  </tbody>\n",
              "</table>\n",
              "<p>3680 rows × 3 columns</p>\n",
              "</div>"
            ],
            "text/plain": [
              "       案件    鄉鎮市區      贊成比例\n",
              "2     c07  南投縣中寮鄉  0.749540\n",
              "3     c07  南投縣仁愛鄉  0.765653\n",
              "4     c07  南投縣信義鄉  0.702652\n",
              "5     c07  南投縣南投市  0.779196\n",
              "6     c07  南投縣名間鄉  0.748985\n",
              "...   ...     ...       ...\n",
              "3905  c16  高雄市阿蓮區  0.526718\n",
              "3906  c16  高雄市鳥松區  0.534527\n",
              "3907  c16  高雄市鳳山區  0.563797\n",
              "3908  c16  高雄市鹽埕區  0.533689\n",
              "3909  c16  高雄市鼓山區  0.564383\n",
              "\n",
              "[3680 rows x 3 columns]"
            ]
          },
          "metadata": {
            "tags": []
          },
          "execution_count": 34
        }
      ]
    }
  ]
}